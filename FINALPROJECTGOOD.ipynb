{
  "nbformat": 4,
  "nbformat_minor": 0,
  "metadata": {
    "colab": {
      "provenance": []
    },
    "kernelspec": {
      "name": "python3",
      "display_name": "Python 3"
    }
  },
  "cells": [
    {
      "cell_type": "code",
      "metadata": {
        "id": "O_kH6bGn6UkI",
        "colab": {
          "resources": {
            "http://localhost:8080/nbextensions/google.colab/files.js": {
              "data": "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",
              "ok": true,
              "headers": [
                [
                  "content-type",
                  "application/javascript"
                ]
              ],
              "status": 200,
              "status_text": ""
            }
          },
          "base_uri": "https://localhost:8080/",
          "height": 73
        },
        "outputId": "d41fd40c-3cfc-40cd-9a58-732bc792f614"
      },
      "source": [
        "from google.colab import files\n",
        "uploaded = files.upload()"
      ],
      "execution_count": null,
      "outputs": [
        {
          "output_type": "display_data",
          "data": {
            "text/html": [
              "\n",
              "     <input type=\"file\" id=\"files-287c1d54-46ea-4759-af66-404cecf779ce\" name=\"files[]\" multiple disabled\n",
              "        style=\"border:none\" />\n",
              "     <output id=\"result-287c1d54-46ea-4759-af66-404cecf779ce\">\n",
              "      Upload widget is only available when the cell has been executed in the\n",
              "      current browser session. Please rerun this cell to enable.\n",
              "      </output>\n",
              "      <script src=\"/nbextensions/google.colab/files.js\"></script> "
            ],
            "text/plain": [
              "<IPython.core.display.HTML object>"
            ]
          },
          "metadata": {
            "tags": []
          }
        },
        {
          "output_type": "stream",
          "text": [
            "Saving Kobe_BryantStats.txt to Kobe_BryantStats.txt\n"
          ],
          "name": "stdout"
        }
      ]
    },
    {
      "cell_type": "code",
      "metadata": {
        "id": "SjrmYV_U7WrB",
        "colab": {
          "base_uri": "https://localhost:8080/"
        },
        "outputId": "71f8a181-9d2f-4fa3-8b3f-c94a4d960686"
      },
      "source": [
        "uploaded"
      ],
      "execution_count": null,
      "outputs": [
        {
          "output_type": "execute_result",
          "data": {
            "text/plain": [
              "{'Kobe_BryantStats.txt': b'\\xef\\xbb\\xbfRk,G,Date,Age,Tm,,Opp,,GS,MP,FG,FGA,FG%,3P,3PA,3P%,FT,FTA,FT%,ORB,DRB,TRB,AST,STL,BLK,TOV,PF,PTS,GmSc,+/-\\r\\n1,1,2007-10-30,29-068,LAL,,HOU,L (-2),1,42:40,13,32,.406,1,3,.333,18,27,.667,0,8,8,4,4,1,5,4,45,27.5,+3\\r\\n2,2,2007-11-02,29-071,LAL,@,PHO,W (+21),1,27:57,6,15,.400,1,3,.333,3,3,1.000,3,8,11,4,3,0,5,0,16,13.2,+27\\r\\n3,3,2007-11-04,29-073,LAL,,UTA,W (+10),1,42:41,13,19,.684,1,2,.500,6,8,.750,0,6,6,3,3,2,5,4,33,25.8,+13\\r\\n4,4,2007-11-06,29-075,LAL,,NOH,L (-14),1,37:22,11,20,.550,2,6,.333,4,4,1.000,1,5,6,7,0,3,4,5,28,21.6,-17\\r\\n5,5,2007-11-09,29-078,LAL,,MIN,W (+14),1,39:41,9,19,.474,3,8,.375,9,10,.900,1,6,7,7,4,0,5,1,30,25.9,+9\\r\\n6,6,2007-11-13,29-082,LAL,@,SAS,L (-15),1,38:25,9,19,.474,0,5,.000,0,0,,0,9,9,5,2,3,3,1,18,15.2,-23\\r\\n7,7,2007-11-14,29-083,LAL,@,HOU,W (+3),1,38:27,11,23,.478,2,5,.400,6,6,1.000,1,7,8,5,1,1,4,2,30,21.5,-4\\r\\n8,8,2007-11-16,29-085,LAL,,DET,W (+12),1,36:53,6,18,.333,2,4,.500,5,5,1.000,0,4,4,7,1,0,2,2,19,13.1,0\\r\\n9,9,2007-11-18,29-087,LAL,,CHI,W (+28),1,32:21,6,16,.375,0,2,.000,6,7,.857,0,5,5,3,3,0,4,1,18,11.0,+12\\r\\n10,10,2007-11-20,29-089,LAL,@,IND,W (+20),1,31:05,8,16,.500,5,9,.556,11,11,1.000,0,6,6,4,1,0,2,3,32,26.4,+17\\r\\n11,11,2007-11-21,29-090,LAL,@,MIL,L (-7),1,42:43,7,18,.389,2,8,.250,11,11,1.000,0,3,3,4,1,0,1,3,27,19.7,-8\\r\\n12,12,2007-11-23,29-092,LAL,@,BOS,L (-13),1,36:45,9,21,.429,3,7,.429,7,9,.778,0,4,4,3,0,0,2,4,28,15.8,-14\\r\\n13,13,2007-11-25,29-094,LAL,,NJN,L (-2),1,40:30,7,21,.333,2,5,.400,15,16,.938,0,3,3,7,4,0,2,3,31,25.3,+9\\r\\n14,14,2007-11-27,29-096,LAL,,SEA,W (+7),1,35:23,12,22,.545,1,3,.333,10,12,.833,2,6,8,6,0,0,3,2,35,27.2,+16\\r\\n15,15,2007-11-29,29-098,LAL,,DEN,W (+28),1,29:51,10,18,.556,0,3,.000,4,5,.800,3,3,6,7,1,0,2,1,24,21.5,+7\\r\\n16,16,2007-11-30,29-099,LAL,@,UTA,L (-24),1,34:43,10,19,.526,3,5,.600,5,6,.833,1,3,4,3,0,0,2,4,28,18.4,-20\\r\\n17,17,2007-12-02,29-101,LAL,,ORL,L (-7),1,42:09,10,26,.385,4,9,.444,4,4,1.000,2,4,6,5,2,0,4,0,28,17.9,-9\\r\\n18,18,2007-12-04,29-103,LAL,@,MIN,W (+21),1,28:56,6,12,.500,2,5,.400,6,9,.667,1,2,3,5,4,0,4,2,20,16.8,+16\\r\\n19,19,2007-12-05,29-104,LAL,@,DEN,W (+4),1,30:46,10,19,.526,0,3,.000,5,6,.833,1,7,8,5,2,1,1,4,25,21.7,+9\\r\\n20,20,2007-12-09,29-108,LAL,,GSW,W (+10),1,37:45,9,23,.391,2,6,.333,8,10,.800,0,6,6,8,3,1,3,2,28,22.0,+22\\r\\n21,21,2007-12-13,29-112,LAL,,SAS,W (+5),1,38:05,10,24,.417,1,4,.250,9,10,.900,1,6,7,3,4,0,1,1,30,24.0,-7\\r\\n22,22,2007-12-14,29-113,LAL,@,GSW,L (-2),1,36:40,6,23,.261,0,6,.000,9,11,.818,1,5,6,5,2,1,5,2,21,9.1,+1\\r\\n23,23,2007-12-16,29-115,LAL,,LAC,W (+21),1,36:19,11,22,.500,2,6,.333,8,9,.889,2,6,8,3,1,1,4,2,32,22.8,+31\\r\\n24,24,2007-12-18,29-117,LAL,@,CHI,W (+12),1,36:23,7,19,.368,0,3,.000,4,4,1.000,1,5,6,2,3,1,2,2,18,12.0,+13\\r\\n25,25,2007-12-20,29-119,LAL,@,CLE,L (-4),1,40:02,8,22,.364,0,3,.000,5,8,.625,1,4,5,5,1,0,2,2,21,11.2,+8\\r\\n26,26,2007-12-21,29-120,LAL,@,PHI,W (+5),1,39:11,6,20,.300,2,5,.400,5,5,1.000,2,5,7,3,2,1,4,2,19,10.3,+6\\r\\n27,27,2007-12-23,29-122,LAL,@,NYK,W (+5),1,41:25,14,28,.500,5,12,.417,6,7,.857,2,9,11,8,2,0,2,2,39,33.5,+19\\r\\n28,28,2007-12-25,29-124,LAL,,PHO,W (+7),1,41:20,12,20,.600,1,3,.333,13,14,.929,2,3,5,7,2,0,8,4,38,28.0,+9\\r\\n29,29,2007-12-28,29-127,LAL,,UTA,W (+14),1,29:26,11,18,.611,6,9,.667,3,4,.750,0,4,4,7,4,0,5,3,31,26.3,+20\\r\\n30,30,2007-12-30,29-129,LAL,,BOS,L (-19),1,36:59,6,25,.240,0,6,.000,10,11,.909,2,4,6,3,0,1,3,5,22,6.9,-10\\r\\n31,31,2008-01-04,29-134,LAL,,PHI,W (+31),1,29:10,5,9,.556,0,1,.000,5,5,1.000,1,5,6,4,0,0,3,2,15,11.9,+20\\r\\n32,32,2008-01-06,29-136,LAL,,IND,W (+16),1,35:43,8,21,.381,2,3,.667,8,8,1.000,0,2,2,6,3,0,4,3,26,17.1,+32\\r\\n33,33,2008-01-08,29-138,LAL,@,MEM,W (+16),1,40:16,8,22,.364,1,4,.250,8,11,.727,1,2,3,6,5,0,3,4,25,17.5,+13\\r\\n34,34,2008-01-09,29-139,LAL,@,NOH,W (+29),1,32:59,8,16,.500,2,4,.500,1,2,.500,0,7,7,7,3,0,1,0,19,19.6,+16\\r\\n35,35,2008-01-11,29-141,LAL,,MIL,W (+5),1,36:48,12,25,.480,5,9,.556,8,8,1.000,2,3,5,7,2,0,1,4,37,30.9,+19\\r\\n36,36,2008-01-13,29-143,LAL,,MEM,W (+1),1,36:06,10,25,.400,3,10,.300,14,15,.933,2,1,3,4,4,0,1,1,37,30.2,+2\\r\\n37,37,2008-01-14,29-144,LAL,@,SEA,W (+2),1,42:12,21,44,.477,2,8,.250,4,7,.571,0,2,2,2,1,0,1,1,48,26.0,-3\\r\\n38,38,2008-01-17,29-147,LAL,,PHO,L (-8),1,39:10,10,22,.455,4,10,.400,6,8,.750,2,5,7,4,2,0,2,2,30,22.7,-8\\r\\n39,39,2008-01-21,29-151,LAL,,DEN,W (+17),1,38:31,5,7,.714,1,2,.500,6,8,.750,1,4,5,11,2,0,6,4,17,17.3,+21\\r\\n40,40,2008-01-23,29-153,LAL,@,SAS,L (-12),1,45:05,12,27,.444,1,2,.500,4,4,1.000,6,6,12,5,0,0,9,2,29,14.6,-12\\r\\n41,41,2008-01-25,29-155,LAL,@,DAL,L (-7),1,44:56,11,19,.579,1,3,.333,17,21,.810,0,10,10,5,1,1,3,4,40,33.1,-6\\r\\n42,42,2008-01-27,29-157,LAL,,CLE,L (-3),1,43:01,10,21,.476,0,1,.000,13,18,.722,2,10,12,6,0,1,3,3,33,25.4,+8\\r\\n43,43,2008-01-29,29-159,LAL,,NYK,W (+11),1,43:34,10,21,.476,1,4,.250,3,6,.500,2,6,8,11,0,1,4,3,24,18.5,+7\\r\\n44,44,2008-01-31,29-161,LAL,@,DET,L (-1),1,47:15,12,25,.480,2,4,.500,13,15,.867,3,7,10,5,2,1,11,2,39,24.1,+3\\r\\n45,45,2008-02-01,29-162,LAL,@,TOR,W (+20),1,43:55,19,28,.679,4,8,.500,4,4,1.000,0,7,7,5,1,0,1,2,46,38.8,+19\\r\\n46,46,2008-02-03,29-164,LAL,@,WAS,W (+12),1,35:10,10,15,.667,2,5,.400,8,11,.727,1,5,6,2,1,0,3,2,30,23.1,+22\\r\\n47,47,2008-02-05,29-166,LAL,@,NJN,W (+15),1,40:23,3,13,.231,0,2,.000,0,0,,1,4,5,8,2,2,7,3,6,0.8,+20\\r\\n48,48,2008-02-06,29-167,LAL,@,ATL,L (-3),1,37:02,4,16,.250,0,2,.000,3,5,.600,0,1,1,10,1,0,1,2,11,7.1,-7\\r\\n49,49,2008-02-08,29-169,LAL,@,ORL,W (+4),1,46:08,11,26,.423,0,2,.000,14,16,.875,1,9,10,6,0,1,4,3,36,24.5,+6\\r\\n50,50,2008-02-10,29-171,LAL,@,MIA,W (+10),1,42:05,10,15,.667,2,5,.400,11,11,1.000,0,3,3,5,2,0,4,4,33,27.3,+7\\r\\n51,51,2008-02-11,29-172,LAL,@,CHA,W (+9),1,41:00,9,17,.529,4,7,.571,9,9,1.000,0,2,2,4,4,2,4,3,31,26.3,+6\\r\\n52,52,2008-02-13,29-174,LAL,@,MIN,W (+25),1,34:47,7,18,.389,2,7,.286,13,13,1.000,1,4,5,5,1,1,1,1,29,24.9,+32\\r\\n53,53,2008-02-19,29-180,LAL,,ATL,W (+29),1,30:19,8,16,.500,1,4,.250,6,6,1.000,3,2,5,3,5,0,1,2,23,23.0,+24\\r\\n54,54,2008-02-20,29-181,LAL,@,PHO,W (+6),1,45:44,16,25,.640,1,2,.500,8,10,.800,1,4,5,3,2,2,5,3,41,30.3,+6\\r\\n55,55,2008-02-23,29-184,LAL,@,LAC,W (+18),1,41:33,5,11,.455,0,3,.000,7,9,.778,1,4,5,7,2,0,5,5,17,12.3,+25\\r\\n56,56,2008-02-24,29-185,LAL,@,SEA,W (+20),1,26:05,8,13,.615,3,5,.600,2,3,.667,0,4,4,10,3,0,1,1,21,24.5,+24\\r\\n57,57,2008-02-26,29-187,LAL,,POR,W (+13),1,44:42,11,25,.440,1,4,.250,7,8,.875,1,8,9,7,2,0,3,5,30,21.5,+11\\r\\n58,58,2008-02-28,29-189,LAL,,MIA,W (+18),1,40:35,7,14,.500,0,2,.000,7,7,1.000,0,1,1,8,4,2,3,5,21,20.3,+14\\r\\n59,59,2008-02-29,29-190,LAL,@,POR,L (-8),1,43:26,12,24,.500,2,8,.250,7,8,.875,3,4,7,5,1,0,6,4,33,20.8,-6\\r\\n60,60,2008-03-02,29-192,LAL,,DAL,W (+4),1,51:24,15,27,.556,2,3,.667,20,27,.741,1,10,11,4,1,2,5,2,52,39.4,+4\\r\\n61,61,2008-03-04,29-194,LAL,@,SAC,W (+12),1,43:09,10,26,.385,0,3,.000,14,16,.875,2,8,10,3,2,0,4,3,34,21.7,+11\\r\\n62,62,2008-03-07,29-197,LAL,,LAC,W (+37),1,31:09,5,9,.556,2,3,.667,4,4,1.000,1,5,6,3,2,0,2,2,16,15.2,+27\\r\\n63,63,2008-03-09,29-199,LAL,,SAC,L (-1),1,42:14,7,18,.389,0,3,.000,12,15,.800,0,3,3,5,3,0,3,2,26,18.6,+1\\r\\n64,64,2008-03-11,29-201,LAL,,TOR,W (+9),1,46:38,12,20,.600,4,8,.500,6,6,1.000,1,6,7,7,4,1,4,3,34,31.7,+9\\r\\n65,65,2008-03-14,29-204,LAL,@,NOH,L (-10),1,37:55,10,23,.435,4,7,.571,12,13,.923,1,8,9,3,1,0,3,6,36,24.3,-10\\r\\n66,66,2008-03-16,29-206,LAL,@,HOU,L (-12),1,47:04,11,33,.333,0,4,.000,2,4,.500,0,7,7,2,0,0,3,3,24,3.8,-13\\r\\n67,67,2008-03-18,29-208,LAL,@,DAL,W (+2),1,43:32,12,23,.522,2,4,.500,3,6,.500,0,2,2,7,3,0,2,4,29,21.4,+7\\r\\n68,68,2008-03-20,29-210,LAL,@,UTA,W (+11),1,40:43,11,24,.458,0,2,.000,5,9,.556,2,6,8,7,1,0,3,3,27,17.9,+7\\r\\n69,69,2008-03-21,29-211,LAL,,SEA,W (+25),1,29:49,8,15,.533,0,3,.000,7,8,.875,1,1,2,5,0,0,1,2,23,18.0,+16\\r\\n70,70,2008-03-23,29-213,LAL,,GSW,L (-4),1,46:23,13,30,.433,3,9,.333,7,7,1.000,2,12,14,8,1,0,3,4,36,27.2,-6\\r\\n71,71,2008-03-24,29-214,LAL,@,GSW,W (+4),1,51:55,11,30,.367,1,5,.200,7,7,1.000,2,9,11,7,1,0,3,4,30,18.8,+2\\r\\n72,72,2008-03-26,29-216,LAL,,CHA,L (-13),1,38:55,8,22,.364,2,6,.333,9,12,.750,1,5,6,3,0,1,3,4,27,14.0,-18\\r\\n73,73,2008-03-28,29-218,LAL,,MEM,L (-3),1,41:52,19,37,.514,9,17,.529,6,7,.857,2,8,10,1,3,0,1,4,53,39.2,+1\\r\\n74,74,2008-03-30,29-220,LAL,,WAS,W (+6),1,46:45,7,24,.292,0,3,.000,12,15,.800,0,4,4,13,1,1,1,3,26,20.6,+4\\r\\n75,75,2008-04-02,29-223,LAL,,POR,W (+13),1,41:28,10,16,.625,4,5,.800,12,13,.923,2,11,13,7,3,0,1,3,36,38.8,+25\\r\\n76,76,2008-04-04,29-225,LAL,,DAL,W (+4),1,41:41,7,14,.500,3,4,.750,8,9,.889,4,6,10,6,0,0,0,4,25,24.8,+5\\r\\n77,77,2008-04-06,29-227,LAL,@,SAC,W (+22),1,35:56,9,15,.600,4,7,.571,7,8,.875,2,3,5,5,2,0,4,3,29,24.3,+18\\r\\n78,78,2008-04-08,29-229,LAL,@,POR,L (-9),1,44:41,11,26,.423,2,7,.286,10,13,.769,1,4,5,5,1,1,2,5,34,22.1,-13\\r\\n79,79,2008-04-10,29-231,LAL,@,LAC,W (+28),1,34:35,6,17,.353,1,5,.200,3,5,.600,1,2,3,3,1,2,2,1,16,9.1,+13\\r\\n80,80,2008-04-11,29-232,LAL,,NOH,W (+3),1,43:07,9,17,.529,3,7,.429,8,10,.800,1,9,10,8,2,0,1,3,29,28.7,0\\r\\n81,81,2008-04-13,29-234,LAL,,SAS,W (+21),1,31:57,6,14,.429,3,6,.500,5,6,.833,1,4,5,5,2,1,4,3,20,15.1,+14\\r\\n82,82,2008-04-15,29-236,LAL,,SAC,W (+23),1,28:54,3,13,.231,1,5,.200,13,14,.929,1,2,3,5,1,0,2,3,20,14.3,+21'}"
            ]
          },
          "metadata": {
            "tags": []
          },
          "execution_count": 2
        }
      ]
    },
    {
      "cell_type": "code",
      "metadata": {
        "id": "jNMYwfB-7Z53"
      },
      "source": [
        "f = open(\"Kobe_BryantStats.txt\", \"r\")"
      ],
      "execution_count": null,
      "outputs": []
    },
    {
      "cell_type": "code",
      "metadata": {
        "id": "cwa2L84t7fit"
      },
      "source": [
        "lines = f.readlines()"
      ],
      "execution_count": null,
      "outputs": []
    },
    {
      "cell_type": "code",
      "metadata": {
        "id": "VEpIl0y47ibz",
        "colab": {
          "base_uri": "https://localhost:8080/"
        },
        "outputId": "ca5f41ef-e252-4e3b-aa44-61b6df58e110"
      },
      "source": [
        "Bryant_features = []\n",
        "pts = 0\n",
        "trl = 0\n",
        "for i in range(1,83):\n",
        "  plusmin= int(lines[i].split(\",\")[29])\n",
        "  GmScore= float(lines[i].split(\",\")[28])\n",
        "  #pts = int(lines[i].split(\",\")[27])\n",
        "  #rebounds = int(lines[i].split(\",\")[21])\n",
        "  #assists = int(lines[i].split(\",\")[22])\n",
        "  #steals = int(lines[i].split(\",\")[23])\n",
        "  #blocks = int(lines[i].split(\",\")[24])\n",
        "  #Bryant_features.append(pts)\n",
        "  #Bryant_features.append(rebounds)\n",
        "  #Bryant_features.append(assists)\n",
        "  #Bryant_features.append(steals)\n",
        "  #Bryant_features.append(blocks)\n",
        "  Bryant_features.append(plusmin)\n",
        "  Bryant_features.append(GmScore)\n",
        "\n",
        "print(Bryant_features)"
      ],
      "execution_count": null,
      "outputs": [
        {
          "output_type": "stream",
          "text": [
            "[3, 27.5, 27, 13.2, 13, 25.8, -17, 21.6, 9, 25.9, -23, 15.2, -4, 21.5, 0, 13.1, 12, 11.0, 17, 26.4, -8, 19.7, -14, 15.8, 9, 25.3, 16, 27.2, 7, 21.5, -20, 18.4, -9, 17.9, 16, 16.8, 9, 21.7, 22, 22.0, -7, 24.0, 1, 9.1, 31, 22.8, 13, 12.0, 8, 11.2, 6, 10.3, 19, 33.5, 9, 28.0, 20, 26.3, -10, 6.9, 20, 11.9, 32, 17.1, 13, 17.5, 16, 19.6, 19, 30.9, 2, 30.2, -3, 26.0, -8, 22.7, 21, 17.3, -12, 14.6, -6, 33.1, 8, 25.4, 7, 18.5, 3, 24.1, 19, 38.8, 22, 23.1, 20, 0.8, -7, 7.1, 6, 24.5, 7, 27.3, 6, 26.3, 32, 24.9, 24, 23.0, 6, 30.3, 25, 12.3, 24, 24.5, 11, 21.5, 14, 20.3, -6, 20.8, 4, 39.4, 11, 21.7, 27, 15.2, 1, 18.6, 9, 31.7, -10, 24.3, -13, 3.8, 7, 21.4, 7, 17.9, 16, 18.0, -6, 27.2, 2, 18.8, -18, 14.0, 1, 39.2, 4, 20.6, 25, 38.8, 5, 24.8, 18, 24.3, -13, 22.1, 13, 9.1, 0, 28.7, 14, 15.1, 21, 14.3]\n"
          ],
          "name": "stdout"
        }
      ]
    },
    {
      "cell_type": "code",
      "metadata": {
        "id": "rJfcYcXt_EIH",
        "colab": {
          "base_uri": "https://localhost:8080/"
        },
        "outputId": "6b40adea-3bd8-4227-eee1-32d257f16c92"
      },
      "source": [
        "feature_list = []\n",
        "pts=0\n",
        "trl=0\n",
        "ass = 0\n",
        "stl = 0\n",
        "blo = 0\n",
        "for i in range(1,83):\n",
        "  p_t_list=[]\n",
        "  p_t_list.append(int(lines[i].split(\",\")[29]))\n",
        "  p_t_list.append(float(lines[i].split(\",\")[28]))\n",
        "  #p_t_list.append(int(lines[i].split(\",\")[27]))\n",
        "  #p_t_list.append(int(lines[i].split(\",\")[21]))\n",
        "  #p_t_list.append(int(lines[i].split(\",\")[22]))\n",
        "  #p_t_list.append(int(lines[i].split(\",\")[23]))\n",
        "  #p_t_list.append(int(lines[i].split(\",\")[24]))\n",
        "\n",
        "  feature_list.append(p_t_list)\n",
        "print(feature_list)"
      ],
      "execution_count": null,
      "outputs": [
        {
          "output_type": "stream",
          "text": [
            "[[3, 27.5], [27, 13.2], [13, 25.8], [-17, 21.6], [9, 25.9], [-23, 15.2], [-4, 21.5], [0, 13.1], [12, 11.0], [17, 26.4], [-8, 19.7], [-14, 15.8], [9, 25.3], [16, 27.2], [7, 21.5], [-20, 18.4], [-9, 17.9], [16, 16.8], [9, 21.7], [22, 22.0], [-7, 24.0], [1, 9.1], [31, 22.8], [13, 12.0], [8, 11.2], [6, 10.3], [19, 33.5], [9, 28.0], [20, 26.3], [-10, 6.9], [20, 11.9], [32, 17.1], [13, 17.5], [16, 19.6], [19, 30.9], [2, 30.2], [-3, 26.0], [-8, 22.7], [21, 17.3], [-12, 14.6], [-6, 33.1], [8, 25.4], [7, 18.5], [3, 24.1], [19, 38.8], [22, 23.1], [20, 0.8], [-7, 7.1], [6, 24.5], [7, 27.3], [6, 26.3], [32, 24.9], [24, 23.0], [6, 30.3], [25, 12.3], [24, 24.5], [11, 21.5], [14, 20.3], [-6, 20.8], [4, 39.4], [11, 21.7], [27, 15.2], [1, 18.6], [9, 31.7], [-10, 24.3], [-13, 3.8], [7, 21.4], [7, 17.9], [16, 18.0], [-6, 27.2], [2, 18.8], [-18, 14.0], [1, 39.2], [4, 20.6], [25, 38.8], [5, 24.8], [18, 24.3], [-13, 22.1], [13, 9.1], [0, 28.7], [14, 15.1], [21, 14.3]]\n"
          ],
          "name": "stdout"
        }
      ]
    },
    {
      "cell_type": "code",
      "metadata": {
        "id": "GdeidMSB_ZcS",
        "colab": {
          "base_uri": "https://localhost:8080/"
        },
        "outputId": "807b6f92-b018-4d9e-9511-3f6e8b459088"
      },
      "source": [
        "label_list = []\n",
        "for i in range(1,83):\n",
        "  label_list.append(lines[i].split(\",\")[7])\n",
        "print(label_list)"
      ],
      "execution_count": null,
      "outputs": [
        {
          "output_type": "stream",
          "text": [
            "['L (-2)', 'W (+21)', 'W (+10)', 'L (-14)', 'W (+14)', 'L (-15)', 'W (+3)', 'W (+12)', 'W (+28)', 'W (+20)', 'L (-7)', 'L (-13)', 'L (-2)', 'W (+7)', 'W (+28)', 'L (-24)', 'L (-7)', 'W (+21)', 'W (+4)', 'W (+10)', 'W (+5)', 'L (-2)', 'W (+21)', 'W (+12)', 'L (-4)', 'W (+5)', 'W (+5)', 'W (+7)', 'W (+14)', 'L (-19)', 'W (+31)', 'W (+16)', 'W (+16)', 'W (+29)', 'W (+5)', 'W (+1)', 'W (+2)', 'L (-8)', 'W (+17)', 'L (-12)', 'L (-7)', 'L (-3)', 'W (+11)', 'L (-1)', 'W (+20)', 'W (+12)', 'W (+15)', 'L (-3)', 'W (+4)', 'W (+10)', 'W (+9)', 'W (+25)', 'W (+29)', 'W (+6)', 'W (+18)', 'W (+20)', 'W (+13)', 'W (+18)', 'L (-8)', 'W (+4)', 'W (+12)', 'W (+37)', 'L (-1)', 'W (+9)', 'L (-10)', 'L (-12)', 'W (+2)', 'W (+11)', 'W (+25)', 'L (-4)', 'W (+4)', 'L (-13)', 'L (-3)', 'W (+6)', 'W (+13)', 'W (+4)', 'W (+22)', 'L (-9)', 'W (+28)', 'W (+3)', 'W (+21)', 'W (+23)']\n"
          ],
          "name": "stdout"
        }
      ]
    },
    {
      "cell_type": "code",
      "metadata": {
        "id": "aGs0M85l_d77",
        "colab": {
          "base_uri": "https://localhost:8080/"
        },
        "outputId": "2577193e-c721-4c96-edb8-be45d030ddcc"
      },
      "source": [
        "label_list = []\n",
        "for i in range(1,83):\n",
        "  if (lines[i].split(\",\")[7][0] == \"L\"):\n",
        "    label_list.append(0)\n",
        "  else:\n",
        "    label_list.append(1)\n",
        "print(label_list)"
      ],
      "execution_count": null,
      "outputs": [
        {
          "output_type": "stream",
          "text": [
            "[0, 1, 1, 0, 1, 0, 1, 1, 1, 1, 0, 0, 0, 1, 1, 0, 0, 1, 1, 1, 1, 0, 1, 1, 0, 1, 1, 1, 1, 0, 1, 1, 1, 1, 1, 1, 1, 0, 1, 0, 0, 0, 1, 0, 1, 1, 1, 0, 1, 1, 1, 1, 1, 1, 1, 1, 1, 1, 0, 1, 1, 1, 0, 1, 0, 0, 1, 1, 1, 0, 1, 0, 0, 1, 1, 1, 1, 0, 1, 1, 1, 1]\n"
          ],
          "name": "stdout"
        }
      ]
    },
    {
      "cell_type": "code",
      "metadata": {
        "id": "ob0t1d8P_g7J"
      },
      "source": [
        "from sklearn.linear_model import LogisticRegression"
      ],
      "execution_count": null,
      "outputs": []
    },
    {
      "cell_type": "code",
      "metadata": {
        "id": "SBoVklOr_m72"
      },
      "source": [
        "from sklearn.tree import DecisionTreeClassifier"
      ],
      "execution_count": null,
      "outputs": []
    },
    {
      "cell_type": "code",
      "metadata": {
        "id": "pw135IFd_qSf"
      },
      "source": [
        "lr = LogisticRegression()"
      ],
      "execution_count": null,
      "outputs": []
    },
    {
      "cell_type": "code",
      "metadata": {
        "id": "0oBDvkde_s9x"
      },
      "source": [
        "dt = DecisionTreeClassifier()"
      ],
      "execution_count": null,
      "outputs": []
    },
    {
      "cell_type": "code",
      "metadata": {
        "id": "eKjBg3VY_uCx",
        "colab": {
          "base_uri": "https://localhost:8080/"
        },
        "outputId": "2fe4c44e-3bf0-4d04-e2cf-013512267c0f"
      },
      "source": [
        "lr.fit(feature_list, label_list)\n",
        "dt.fit(feature_list,label_list)"
      ],
      "execution_count": null,
      "outputs": [
        {
          "output_type": "execute_result",
          "data": {
            "text/plain": [
              "DecisionTreeClassifier(ccp_alpha=0.0, class_weight=None, criterion='gini',\n",
              "                       max_depth=None, max_features=None, max_leaf_nodes=None,\n",
              "                       min_impurity_decrease=0.0, min_impurity_split=None,\n",
              "                       min_samples_leaf=1, min_samples_split=2,\n",
              "                       min_weight_fraction_leaf=0.0, presort='deprecated',\n",
              "                       random_state=None, splitter='best')"
            ]
          },
          "metadata": {
            "tags": []
          },
          "execution_count": 13
        }
      ]
    },
    {
      "cell_type": "code",
      "metadata": {
        "id": "WCXqqbC7_z6T"
      },
      "source": [
        "from sklearn.metrics import accuracy_score"
      ],
      "execution_count": null,
      "outputs": []
    },
    {
      "cell_type": "code",
      "metadata": {
        "id": "KFAuXjwA_3SF",
        "colab": {
          "base_uri": "https://localhost:8080/"
        },
        "outputId": "b4601d2f-94cd-45ab-8b1f-1606c9d9c7ec"
      },
      "source": [
        "y_pred = lr.predict(feature_list)\n",
        "accuracy = accuracy_score(label_list, y_pred)\n",
        "print(accuracy)"
      ],
      "execution_count": null,
      "outputs": [
        {
          "output_type": "stream",
          "text": [
            "0.8658536585365854\n"
          ],
          "name": "stdout"
        }
      ]
    },
    {
      "cell_type": "code",
      "metadata": {
        "id": "11nqqGa5_64v",
        "colab": {
          "base_uri": "https://localhost:8080/"
        },
        "outputId": "f88034ad-5596-42c2-de96-8790b52208ec"
      },
      "source": [
        "y_pred = dt.predict(feature_list)\n",
        "accuracy = accuracy_score(label_list, y_pred)\n",
        "print(accuracy)\n"
      ],
      "execution_count": null,
      "outputs": [
        {
          "output_type": "stream",
          "text": [
            "1.0\n"
          ],
          "name": "stdout"
        }
      ]
    },
    {
      "cell_type": "code",
      "metadata": {
        "id": "YImOlPyDAYQO",
        "colab": {
          "resources": {
            "http://localhost:8080/nbextensions/google.colab/files.js": {
              "data": "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",
              "ok": true,
              "headers": [
                [
                  "content-type",
                  "application/javascript"
                ]
              ],
              "status": 200,
              "status_text": ""
            }
          },
          "base_uri": "https://localhost:8080/",
          "height": 73
        },
        "outputId": "63996fdb-daa9-4ea1-ce37-0e7a5e719bd5"
      },
      "source": [
        "from google.colab import files\n",
        "uploaded = files.upload()"
      ],
      "execution_count": null,
      "outputs": [
        {
          "output_type": "display_data",
          "data": {
            "text/html": [
              "\n",
              "     <input type=\"file\" id=\"files-6d12258a-3a43-427b-af3e-589936a09b60\" name=\"files[]\" multiple disabled\n",
              "        style=\"border:none\" />\n",
              "     <output id=\"result-6d12258a-3a43-427b-af3e-589936a09b60\">\n",
              "      Upload widget is only available when the cell has been executed in the\n",
              "      current browser session. Please rerun this cell to enable.\n",
              "      </output>\n",
              "      <script src=\"/nbextensions/google.colab/files.js\"></script> "
            ],
            "text/plain": [
              "<IPython.core.display.HTML object>"
            ]
          },
          "metadata": {
            "tags": []
          }
        },
        {
          "output_type": "stream",
          "text": [
            "Saving Kobe_Bryant_PlayoffStats.txt to Kobe_Bryant_PlayoffStats.txt\n"
          ],
          "name": "stdout"
        }
      ]
    },
    {
      "cell_type": "code",
      "metadata": {
        "id": "Wp2r2oKjAbc2",
        "colab": {
          "base_uri": "https://localhost:8080/"
        },
        "outputId": "7bb54794-6a58-4ecb-9841-60087f5a2b4a"
      },
      "source": [
        "uploaded"
      ],
      "execution_count": null,
      "outputs": [
        {
          "output_type": "execute_result",
          "data": {
            "text/plain": [
              "{'Kobe_Bryant_PlayoffStats.txt': b'\\xef\\xbb\\xbfRk,G,Date,Age,Tm,,Opp,,GS,MP,FG,FGA,FG%,3P,3PA,3P%,FT,FTA,FT%,ORB,DRB,TRB,AST,STL,BLK,TOV,PF,PTS,GmSc,+/-\\r\\n1,1,2008-04-20,29-241,LAL,,DEN,W (+14),1,37:03,9,26,.346,1,5,.200,13,14,.929,0,3,3,1,1,2,1,5,32,18.0,+3\\r\\n2,2,2008-04-23,29-244,LAL,,DEN,W (+15),1,42:23,18,27,.667,5,9,.556,8,9,.889,1,3,4,10,1,1,2,4,49,43.6,+13\\r\\n3,3,2008-04-26,29-247,LAL,@,DEN,W (+18),1,36:09,9,19,.474,1,8,.125,3,5,.600,1,6,7,8,1,1,2,2,22,18.5,+21\\r\\n4,4,2008-04-28,29-249,LAL,@,DEN,W (+6),1,41:30,12,24,.500,3,8,.375,4,10,.400,1,6,7,6,3,2,6,3,31,20.5,+10\\r\\n5,5,2008-05-04,29-255,LAL,,UTA,W (+11),1,39:56,8,16,.500,1,2,.500,21,23,.913,0,6,6,7,1,0,3,3,38,32.7,+7\\r\\n6,6,2008-05-07,29-258,LAL,,UTA,W (+10),1,37:31,11,18,.611,1,2,.500,11,12,.917,0,8,8,6,1,0,5,4,34,26.4,+18\\r\\n7,7,2008-05-09,29-260,LAL,@,UTA,L (-5),1,42:04,10,20,.500,0,6,.000,14,17,.824,2,4,6,7,0,1,4,4,34,25.4,+3\\r\\n8,8,2008-05-11,29-262,LAL,@,UTA,L (-8),1,46:32,13,33,.394,1,10,.100,6,10,.600,2,6,8,10,1,0,3,1,33,21.3,-7\\r\\n9,9,2008-05-14,29-265,LAL,,UTA,W (+7),1,41:03,6,10,.600,1,2,.500,13,17,.765,0,6,6,7,2,0,4,3,26,23.3,+1\\r\\n10,10,2008-05-16,29-267,LAL,@,UTA,W (+3),1,39:31,9,19,.474,1,2,.500,15,17,.882,0,8,8,6,0,0,5,4,34,23.5,+7\\r\\n11,11,2008-05-21,29-272,LAL,,SAS,W (+4),1,43:34,11,21,.524,1,3,.333,4,4,1.000,0,5,5,9,1,0,1,1,27,24.1,+2\\r\\n12,12,2008-05-23,29-274,LAL,,SAS,W (+30),1,36:03,10,17,.588,1,5,.200,1,1,1.000,0,5,5,5,1,0,3,0,22,17.1,+24\\r\\n13,13,2008-05-25,29-276,LAL,@,SAS,L (-19),1,37:47,13,23,.565,4,9,.444,0,1,.000,1,4,5,1,3,0,4,3,30,19.1,-10\\r\\n14,14,2008-05-27,29-278,LAL,@,SAS,W (+2),1,41:18,14,29,.483,0,1,.000,0,0,,2,8,10,1,1,0,2,1,28,16.4,+5\\r\\n15,15,2008-05-29,29-280,LAL,,SAS,W (+8),1,42:33,16,30,.533,2,6,.333,5,5,1.000,0,3,3,3,2,0,2,2,39,26.6,+6\\r\\n16,16,2008-06-05,29-287,LAL,@,BOS,L (-10),1,41:52,9,26,.346,0,3,.000,6,6,1.000,0,3,3,6,1,1,4,3,24,11.0,-13\\r\\n17,17,2008-06-08,29-290,LAL,@,BOS,L (-6),1,40:28,11,23,.478,1,3,.333,7,7,1.000,1,3,4,8,3,0,4,3,30,23.3,+8\\r\\n18,18,2008-06-10,29-292,LAL,,BOS,W (+6),1,45:15,12,20,.600,1,2,.500,11,18,.611,3,4,7,1,2,0,3,4,36,25.4,+2\\r\\n19,19,2008-06-12,29-294,LAL,,BOS,L (-6),1,43:21,6,19,.316,0,2,.000,5,6,.833,0,4,4,10,4,0,2,4,17,14.3,-9\\r\\n20,20,2008-06-15,29-297,LAL,,BOS,W (+5),1,44:20,8,21,.381,4,9,.444,5,7,.714,3,4,7,4,5,0,6,4,25,16.2,+8\\r\\n21,21,2008-06-17,29-299,LAL,@,BOS,L (-39),1,42:46,7,22,.318,3,9,.333,5,5,1.000,1,2,3,1,1,0,4,1,22,8.0,-35'}"
            ]
          },
          "metadata": {
            "tags": []
          },
          "execution_count": 18
        }
      ]
    },
    {
      "cell_type": "code",
      "metadata": {
        "id": "nL2TcN10AgdR"
      },
      "source": [
        "f = open(\"Kobe_Bryant_PlayoffStats.txt\", \"r\")"
      ],
      "execution_count": null,
      "outputs": []
    },
    {
      "cell_type": "code",
      "metadata": {
        "id": "xlNsqQZpAq--"
      },
      "source": [
        "lines = f.readlines()"
      ],
      "execution_count": null,
      "outputs": []
    },
    {
      "cell_type": "code",
      "metadata": {
        "id": "VjSmaE4zAtth",
        "colab": {
          "base_uri": "https://localhost:8080/"
        },
        "outputId": "47ebeb6c-c61c-460e-e56c-9593a9ae1d11"
      },
      "source": [
        "Bryant_testfeatures = []\n",
        "pts = 0\n",
        "trl = 0\n",
        "ass = 0\n",
        "stl = 0\n",
        "blo = 0\n",
        "for i in range(1,22):\n",
        "  plusmin = int(lines[i].split(\",\")[29])\n",
        "  GmScore = float(lines[i].split(\",\")[28])\n",
        "  #pts = int(lines[i].split(\",\")[27])\n",
        "  #rebounds = int(lines[i].split(\",\")[21])\n",
        "  #assists = int(lines[i].split(\",\")[22])\n",
        "  #steals = int(lines[i].split(\",\")[23])\n",
        "  #blocks = int(lines[i].split(\",\")[24])\n",
        "  #Bryant_testfeatures.append(pts)\n",
        "  #Bryant_testfeatures.append(rebounds)\n",
        "  #Bryant_testfeatures.append(assists)\n",
        "  #Bryant_testfeatures.append(steals)\n",
        "  #Bryant_testfeatures.append(blocks)\n",
        "  Bryant_testfeatures.append(plusmin)\n",
        "  Bryant_testfeatures.append(GmScore)\n",
        "\n",
        "print(Bryant_testfeatures)"
      ],
      "execution_count": null,
      "outputs": [
        {
          "output_type": "stream",
          "text": [
            "[3, 18.0, 13, 43.6, 21, 18.5, 10, 20.5, 7, 32.7, 18, 26.4, 3, 25.4, -7, 21.3, 1, 23.3, 7, 23.5, 2, 24.1, 24, 17.1, -10, 19.1, 5, 16.4, 6, 26.6, -13, 11.0, 8, 23.3, 2, 25.4, -9, 14.3, 8, 16.2, -35, 8.0]\n"
          ],
          "name": "stdout"
        }
      ]
    },
    {
      "cell_type": "code",
      "metadata": {
        "id": "OnMILF50A-aY",
        "colab": {
          "base_uri": "https://localhost:8080/"
        },
        "outputId": "26a520b0-f357-410f-97c0-73febdb7e763"
      },
      "source": [
        "feature_testlist = []\n",
        "pts=0\n",
        "trl=0\n",
        "for i in range(1,22):\n",
        "  p_t_list=[]\n",
        "  p_t_list.append(int(lines[i].split(\",\")[29]))\n",
        "  p_t_list.append(float(lines[i].split(\",\")[28]))\n",
        "  #p_t_list.append(int(lines[i].split(\",\")[27]))\n",
        "  #p_t_list.append(int(lines[i].split(\",\")[21]))\n",
        "  #p_t_list.append(int(lines[i].split(\",\")[22]))\n",
        "  #p_t_list.append(int(lines[i].split(\",\")[23]))\n",
        "  #p_t_list.append(int(lines[i].split(\",\")[24]))\n",
        "  feature_testlist.append(p_t_list)\n",
        "print(feature_testlist)"
      ],
      "execution_count": null,
      "outputs": [
        {
          "output_type": "stream",
          "text": [
            "[[3, 18.0], [13, 43.6], [21, 18.5], [10, 20.5], [7, 32.7], [18, 26.4], [3, 25.4], [-7, 21.3], [1, 23.3], [7, 23.5], [2, 24.1], [24, 17.1], [-10, 19.1], [5, 16.4], [6, 26.6], [-13, 11.0], [8, 23.3], [2, 25.4], [-9, 14.3], [8, 16.2], [-35, 8.0]]\n"
          ],
          "name": "stdout"
        }
      ]
    },
    {
      "cell_type": "code",
      "metadata": {
        "id": "zY4bUJwKBADs",
        "colab": {
          "base_uri": "https://localhost:8080/"
        },
        "outputId": "44299723-41f8-44f3-fc4a-d4f3ed3ca033"
      },
      "source": [
        "label_testlist = []\n",
        "for i in range(1,22):\n",
        "  label_testlist.append(lines[i].split(\",\")[7])\n",
        "print(label_testlist)"
      ],
      "execution_count": null,
      "outputs": [
        {
          "output_type": "stream",
          "text": [
            "['W (+14)', 'W (+15)', 'W (+18)', 'W (+6)', 'W (+11)', 'W (+10)', 'L (-5)', 'L (-8)', 'W (+7)', 'W (+3)', 'W (+4)', 'W (+30)', 'L (-19)', 'W (+2)', 'W (+8)', 'L (-10)', 'L (-6)', 'W (+6)', 'L (-6)', 'W (+5)', 'L (-39)']\n"
          ],
          "name": "stdout"
        }
      ]
    },
    {
      "cell_type": "code",
      "metadata": {
        "id": "gaA0rl3iBFGi",
        "colab": {
          "base_uri": "https://localhost:8080/"
        },
        "outputId": "e1ed0725-c201-4275-c0c6-7cac418bbf23"
      },
      "source": [
        "label_testlist = []\n",
        "for i in range(1,22):\n",
        "  if (lines[i].split(\",\")[7][0] == \"L\"):\n",
        "    label_testlist.append(0)\n",
        "  else:\n",
        "    label_testlist.append(1)\n",
        "print(label_testlist)"
      ],
      "execution_count": null,
      "outputs": [
        {
          "output_type": "stream",
          "text": [
            "[1, 1, 1, 1, 1, 1, 0, 0, 1, 1, 1, 1, 0, 1, 1, 0, 0, 1, 0, 1, 0]\n"
          ],
          "name": "stdout"
        }
      ]
    },
    {
      "cell_type": "code",
      "metadata": {
        "id": "xxFnyxhxBGfg"
      },
      "source": [
        "from sklearn.metrics import accuracy_score"
      ],
      "execution_count": null,
      "outputs": []
    },
    {
      "cell_type": "code",
      "metadata": {
        "id": "JftxXS-CBK3T"
      },
      "source": [
        "y_pred = lr.predict(feature_testlist)"
      ],
      "execution_count": null,
      "outputs": []
    },
    {
      "cell_type": "code",
      "metadata": {
        "id": "pM_yQtLRBNVy"
      },
      "source": [
        "accuracy = accuracy_score(label_testlist, y_pred)"
      ],
      "execution_count": null,
      "outputs": []
    },
    {
      "cell_type": "code",
      "metadata": {
        "id": "IakrB_6mBNVB",
        "colab": {
          "base_uri": "https://localhost:8080/"
        },
        "outputId": "719e8b79-1684-4333-e9af-5d9d6559e922"
      },
      "source": [
        "print(accuracy)"
      ],
      "execution_count": null,
      "outputs": [
        {
          "output_type": "stream",
          "text": [
            "0.9047619047619048\n"
          ],
          "name": "stdout"
        }
      ]
    },
    {
      "cell_type": "code",
      "metadata": {
        "id": "aASc_9L9BSKe"
      },
      "source": [
        "y_pred = dt.predict(feature_testlist)"
      ],
      "execution_count": null,
      "outputs": []
    },
    {
      "cell_type": "code",
      "metadata": {
        "id": "htQT8iPfBV6g"
      },
      "source": [
        "accuracy = accuracy_score(label_testlist, y_pred)"
      ],
      "execution_count": null,
      "outputs": []
    },
    {
      "cell_type": "code",
      "metadata": {
        "id": "af1seaanBXjC",
        "colab": {
          "base_uri": "https://localhost:8080/"
        },
        "outputId": "a5f20e94-0976-4483-998f-64633152b368"
      },
      "source": [
        "print(accuracy)"
      ],
      "execution_count": null,
      "outputs": [
        {
          "output_type": "stream",
          "text": [
            "0.8571428571428571\n"
          ],
          "name": "stdout"
        }
      ]
    }
  ]
}